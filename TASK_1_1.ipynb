{
  "nbformat": 4,
  "nbformat_minor": 0,
  "metadata": {
    "language_info": {
      "codemirror_mode": {
        "name": "ipython",
        "version": 3
      },
      "file_extension": ".py",
      "mimetype": "text/x-python",
      "name": "python",
      "nbconvert_exporter": "python",
      "pygments_lexer": "ipython3",
      "version": "3.7.6-final"
    },
    "orig_nbformat": 2,
    "kernelspec": {
      "name": "python_defaultSpec_1597829591380",
      "display_name": "Python 3.7.6 64-bit ('base': conda)"
    },
    "colab": {
      "name": "TASK_1_1",
      "provenance": []
    }
  },
  "cells": [
    {
      "cell_type": "code",
      "metadata": {
        "tags": [],
        "id": "ljbwF4kGJpew",
        "colab_type": "code",
        "colab": {
          "base_uri": "https://localhost:8080/",
          "height": 1000
        },
        "outputId": "9488461e-41d2-456d-e182-0738e2822919"
      },
      "source": [
        "from math import sin,exp,tanh\n",
        "from random import randint\n",
        "def fun(x):\n",
        "    eps=randint(-10,10)/10\n",
        "    return 3**((exp(x/1000)*tanh(x/10)))+eps\n",
        "import csv\n",
        "csv_columns=[\"No\",\"X\",\"Y\"]\n",
        "dict_data=[]\n",
        "\n",
        "n=1000\n",
        "from random import randint\n",
        "\n",
        "\n",
        "for i in range(n):\n",
        "    d={}\n",
        "    x=randint(2,1000)\n",
        "    # x = x/1000\n",
        "    y=fun(x)\n",
        "    d[\"No\"]=i+1\n",
        "    d[\"X\"]=x\n",
        "    d[\"Y\"]=y\n",
        "    dict_data.append(d)\n",
        "csv_file=\"t-1.csv\"\n",
        "try:\n",
        "    with open(csv_file,\"w\") as csvfile:\n",
        "        writer=csv.DictWriter(csvfile,fieldnames=csv_columns)\n",
        "        writer.writeheader()\n",
        "        for data in dict_data:\n",
        "            writer.writerow(data)\n",
        "except IOError:\n",
        "    print(\"Error\")\n",
        "    \n",
        "import numpy as np\n",
        "import pandas as pd\n",
        "import matplotlib.pyplot as plt\n",
        "\n",
        "ds=pd.read_csv(\"t-1.csv\")\n",
        "x=ds.iloc[:,[1]].values\n",
        "y=ds.iloc[:,2].values\n",
        "\n",
        "from sklearn.preprocessing import StandardScaler\n",
        "sc_x=StandardScaler()\n",
        "x=sc_x.fit_transform(x)\n",
        "sc_y=StandardScaler()\n",
        "y=sc_y.fit_transform(y.reshape(-1,1))\n",
        "\n",
        "\n",
        "for i in range(len(y)):\n",
        "    epsilon = np.random.randint(-10,100)/90\n",
        "    y[i] = y[i]-epsilon\n",
        "\n",
        "from sklearn.model_selection import train_test_split\n",
        "x_train,x_test,y_train,y_test=train_test_split(x,y,test_size=0.2,random_state=0)\n",
        "\n",
        "import keras\n",
        "from keras.models import Sequential\n",
        "from keras.layers import Dense\n",
        "x.shape\n",
        "\n",
        "rgs=Sequential()\n",
        "rgs.add(Dense(input_shape=(x.shape[1],),units=7,activation=\"relu\"))\n",
        "rgs.add(Dense(units=7,activation=\"relu\"))\n",
        "rgs.add(Dense(units=1))\n",
        "rgs.compile(optimizer = \"adam\", loss = \"mse\", metrics = ['mse'])\n",
        "rgs.fit(x_train, y_train, batch_size = 10, epochs = 50)\n",
        "\n",
        "y_pred=rgs.predict(x_test,batch_size=10)"
      ],
      "execution_count": 1,
      "outputs": [
        {
          "output_type": "stream",
          "text": [
            "Epoch 1/50\n",
            "80/80 [==============================] - 0s 852us/step - loss: 1.2073 - mse: 1.2073\n",
            "Epoch 2/50\n",
            "80/80 [==============================] - 0s 813us/step - loss: 0.8309 - mse: 0.8309\n",
            "Epoch 3/50\n",
            "80/80 [==============================] - 0s 925us/step - loss: 0.6320 - mse: 0.6320\n",
            "Epoch 4/50\n",
            "80/80 [==============================] - 0s 846us/step - loss: 0.5408 - mse: 0.5408\n",
            "Epoch 5/50\n",
            "80/80 [==============================] - 0s 865us/step - loss: 0.4833 - mse: 0.4833\n",
            "Epoch 6/50\n",
            "80/80 [==============================] - 0s 876us/step - loss: 0.4389 - mse: 0.4389\n",
            "Epoch 7/50\n",
            "80/80 [==============================] - 0s 841us/step - loss: 0.4048 - mse: 0.4048\n",
            "Epoch 8/50\n",
            "80/80 [==============================] - 0s 813us/step - loss: 0.3755 - mse: 0.3755\n",
            "Epoch 9/50\n",
            "80/80 [==============================] - 0s 823us/step - loss: 0.3527 - mse: 0.3527\n",
            "Epoch 10/50\n",
            "80/80 [==============================] - 0s 820us/step - loss: 0.3327 - mse: 0.3327\n",
            "Epoch 11/50\n",
            "80/80 [==============================] - 0s 789us/step - loss: 0.3157 - mse: 0.3157\n",
            "Epoch 12/50\n",
            "80/80 [==============================] - 0s 861us/step - loss: 0.3019 - mse: 0.3019\n",
            "Epoch 13/50\n",
            "80/80 [==============================] - 0s 871us/step - loss: 0.2899 - mse: 0.2899\n",
            "Epoch 14/50\n",
            "80/80 [==============================] - 0s 827us/step - loss: 0.2788 - mse: 0.2788\n",
            "Epoch 15/50\n",
            "80/80 [==============================] - 0s 824us/step - loss: 0.2693 - mse: 0.2693\n",
            "Epoch 16/50\n",
            "80/80 [==============================] - 0s 848us/step - loss: 0.2614 - mse: 0.2614\n",
            "Epoch 17/50\n",
            "80/80 [==============================] - 0s 923us/step - loss: 0.2535 - mse: 0.2535\n",
            "Epoch 18/50\n",
            "80/80 [==============================] - 0s 840us/step - loss: 0.2462 - mse: 0.2462\n",
            "Epoch 19/50\n",
            "80/80 [==============================] - 0s 864us/step - loss: 0.2414 - mse: 0.2414\n",
            "Epoch 20/50\n",
            "80/80 [==============================] - 0s 820us/step - loss: 0.2346 - mse: 0.2346\n",
            "Epoch 21/50\n",
            "80/80 [==============================] - 0s 790us/step - loss: 0.2289 - mse: 0.2289\n",
            "Epoch 22/50\n",
            "80/80 [==============================] - 0s 806us/step - loss: 0.2236 - mse: 0.2236\n",
            "Epoch 23/50\n",
            "80/80 [==============================] - 0s 850us/step - loss: 0.2202 - mse: 0.2202\n",
            "Epoch 24/50\n",
            "80/80 [==============================] - 0s 906us/step - loss: 0.2156 - mse: 0.2156\n",
            "Epoch 25/50\n",
            "80/80 [==============================] - 0s 794us/step - loss: 0.2124 - mse: 0.2124\n",
            "Epoch 26/50\n",
            "80/80 [==============================] - 0s 895us/step - loss: 0.2068 - mse: 0.2068\n",
            "Epoch 27/50\n",
            "80/80 [==============================] - 0s 832us/step - loss: 0.2038 - mse: 0.2038\n",
            "Epoch 28/50\n",
            "80/80 [==============================] - 0s 859us/step - loss: 0.2001 - mse: 0.2001\n",
            "Epoch 29/50\n",
            "80/80 [==============================] - 0s 810us/step - loss: 0.1984 - mse: 0.1984\n",
            "Epoch 30/50\n",
            "80/80 [==============================] - 0s 959us/step - loss: 0.1954 - mse: 0.1954\n",
            "Epoch 31/50\n",
            "80/80 [==============================] - 0s 869us/step - loss: 0.1923 - mse: 0.1923\n",
            "Epoch 32/50\n",
            "80/80 [==============================] - 0s 884us/step - loss: 0.1882 - mse: 0.1882\n",
            "Epoch 33/50\n",
            "80/80 [==============================] - 0s 832us/step - loss: 0.1881 - mse: 0.1881\n",
            "Epoch 34/50\n",
            "80/80 [==============================] - 0s 848us/step - loss: 0.1848 - mse: 0.1848\n",
            "Epoch 35/50\n",
            "80/80 [==============================] - 0s 846us/step - loss: 0.1827 - mse: 0.1827\n",
            "Epoch 36/50\n",
            "80/80 [==============================] - 0s 831us/step - loss: 0.1808 - mse: 0.1808\n",
            "Epoch 37/50\n",
            "80/80 [==============================] - 0s 816us/step - loss: 0.1799 - mse: 0.1799\n",
            "Epoch 38/50\n",
            "80/80 [==============================] - 0s 801us/step - loss: 0.1771 - mse: 0.1771\n",
            "Epoch 39/50\n",
            "80/80 [==============================] - 0s 813us/step - loss: 0.1755 - mse: 0.1755\n",
            "Epoch 40/50\n",
            "80/80 [==============================] - 0s 855us/step - loss: 0.1750 - mse: 0.1750\n",
            "Epoch 41/50\n",
            "80/80 [==============================] - 0s 867us/step - loss: 0.1739 - mse: 0.1739\n",
            "Epoch 42/50\n",
            "80/80 [==============================] - 0s 866us/step - loss: 0.1720 - mse: 0.1720\n",
            "Epoch 43/50\n",
            "80/80 [==============================] - 0s 860us/step - loss: 0.1716 - mse: 0.1716\n",
            "Epoch 44/50\n",
            "80/80 [==============================] - 0s 948us/step - loss: 0.1697 - mse: 0.1697\n",
            "Epoch 45/50\n",
            "80/80 [==============================] - 0s 829us/step - loss: 0.1689 - mse: 0.1689\n",
            "Epoch 46/50\n",
            "80/80 [==============================] - 0s 813us/step - loss: 0.1674 - mse: 0.1674\n",
            "Epoch 47/50\n",
            "80/80 [==============================] - 0s 969us/step - loss: 0.1667 - mse: 0.1667\n",
            "Epoch 48/50\n",
            "80/80 [==============================] - 0s 877us/step - loss: 0.1660 - mse: 0.1660\n",
            "Epoch 49/50\n",
            "80/80 [==============================] - 0s 821us/step - loss: 0.1657 - mse: 0.1657\n",
            "Epoch 50/50\n",
            "80/80 [==============================] - 0s 823us/step - loss: 0.1643 - mse: 0.1643\n"
          ],
          "name": "stdout"
        }
      ]
    },
    {
      "cell_type": "code",
      "metadata": {
        "id": "AEbf8-BDWRkL",
        "colab_type": "code",
        "colab": {}
      },
      "source": [
        ""
      ],
      "execution_count": 1,
      "outputs": []
    },
    {
      "cell_type": "code",
      "metadata": {
        "id": "yWfPqlrVJpfB",
        "colab_type": "code",
        "colab": {}
      },
      "source": [
        "from sklearn.metrics import mean_squared_error"
      ],
      "execution_count": 2,
      "outputs": []
    },
    {
      "cell_type": "code",
      "metadata": {
        "id": "IO796jwFJpfO",
        "colab_type": "code",
        "colab": {
          "base_uri": "https://localhost:8080/",
          "height": 36
        },
        "outputId": "b29ec91f-643c-40e9-8a44-62bbc0d4e574"
      },
      "source": [
        "mean_squared_error(y_test,y_pred)"
      ],
      "execution_count": 3,
      "outputs": [
        {
          "output_type": "execute_result",
          "data": {
            "text/plain": [
              "0.16871243986349455"
            ]
          },
          "metadata": {
            "tags": []
          },
          "execution_count": 3
        }
      ]
    },
    {
      "cell_type": "code",
      "metadata": {
        "id": "gV-Yd5_sJpfY",
        "colab_type": "code",
        "colab": {
          "base_uri": "https://localhost:8080/",
          "height": 288
        },
        "outputId": "56b980f4-5034-4200-842e-9df4140ac86d"
      },
      "source": [
        "plt.scatter(x_train,y_train)\n",
        "plt.scatter(x_test,y_pred,color=\"red\")"
      ],
      "execution_count": 4,
      "outputs": [
        {
          "output_type": "execute_result",
          "data": {
            "text/plain": [
              "<matplotlib.collections.PathCollection at 0x7f0a73d286a0>"
            ]
          },
          "metadata": {
            "tags": []
          },
          "execution_count": 4
        },
        {
          "output_type": "display_data",
          "data": {
            "image/png": "[encoded data removed]",
            "text/plain": [
              "<Figure size 432x288 with 1 Axes>"
            ]
          },
          "metadata": {
            "tags": [],
            "needs_background": "light"
          }
        }
      ]
    },
    {
      "cell_type": "code",
      "metadata": {
        "id": "1caGhzSWJpfq",
        "colab_type": "code",
        "colab": {}
      },
      "source": [
        ""
      ],
      "execution_count": 4,
      "outputs": []
    }
  ]
}