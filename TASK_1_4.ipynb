{
  "nbformat": 4,
  "nbformat_minor": 0,
  "metadata": {
    "colab": {
      "name": "TASK_1_4",
      "provenance": []
    },
    "kernelspec": {
      "name": "python3",
      "display_name": "Python 3"
    }
  },
  "cells": [
    {
      "cell_type": "code",
      "metadata": {
        "id": "Vg9NpKNFy78j",
        "colab_type": "code",
        "colab": {}
      },
      "source": [
        "import numpy as np\n",
        "import matplotlib.pyplot as plt\n",
        "import pandas as pd\n",
        "from sklearn.model_selection import train_test_split\n",
        "from sklearn.metrics import mean_squared_error\n",
        "from math import sqrt\n",
        "import time\n",
        "from sklearn.metrics import accuracy_score"
      ],
      "execution_count": 1,
      "outputs": []
    },
    {
      "cell_type": "code",
      "metadata": {
        "id": "VXibFeuzzGTY",
        "colab_type": "code",
        "colab": {}
      },
      "source": [
        "Lambda=0.0001"
      ],
      "execution_count": 2,
      "outputs": []
    },
    {
      "cell_type": "code",
      "metadata": {
        "id": "GKmfRADfzJv3",
        "colab_type": "code",
        "colab": {}
      },
      "source": [
        "class Neural_Network(object):\n",
        "    def __init__(self,Lambda=0):\n",
        "        self.ils=3\n",
        "        self.hls1=7\n",
        "        self.hls2=7\n",
        "        self.ols=1\n",
        "        \n",
        "        self.W1=np.random.randn(self.ils,self.hls1)\n",
        "        self.W2=np.random.randn(self.hls1,self.hls2)\n",
        "        self.W3=np.random.randn(self.hls2,self.ols)\n",
        "        \n",
        "        self.Lambda=Lambda\n",
        "    \n",
        "    def forward(self,x):\n",
        "        self.z2=np.dot(x,self.W1)\n",
        "        self.a2=self.sigmoid(self.z2)\n",
        "        self.z3=np.dot(self.a2,self.W2)\n",
        "        self.a3=self.sigmoid(self.z3)\n",
        "        self.z4=np.dot(self.a3,self.W3)\n",
        "        a4=self.sigmoid(self.z4)\n",
        "        \n",
        "        return a4\n",
        "    \n",
        "    def sigmoid(self,z):\n",
        "        \n",
        "        return 1/(1+np.exp(-z))\n",
        "    \n",
        "    def sigmoidPrime(self,z):\n",
        "        \n",
        "        return np.exp(-z)/((1+np.exp(-z))**2)\n",
        "    \n",
        "    def cost(self,x,y):\n",
        "        self.ypred=self.forward(x)\n",
        "        J= (sum((0.5)*((self.ypred-y)**2)))/x.shape[0]+ (self.Lambda/2)*(np.sum((self.W1)**2)+np.sum((self.W2)**2)+np.sum((self.W3)**2))\n",
        "        \n",
        "        return J\n",
        "    \n",
        "    \n",
        "    def costPrime(self,x,y):\n",
        "        self.ypred=self.forward(x)\n",
        "        \n",
        "        d4=np.multiply((-y+self.ypred),self.sigmoidPrime(self.z4))\n",
        "        djdw3=np.dot(self.a3.T,d4)/x.shape[0]+self.Lambda*(self.W3)\n",
        "        d3=np.dot(d4,self.W3.T)*self.sigmoidPrime(self.z3)\n",
        "        djdw2=np.dot(self.a2.T,d3)/x.shape[0]+self.Lambda*(self.W2)\n",
        "        d2=np.dot(d3,self.W2.T)*self.sigmoidPrime(self.z2)\n",
        "        djdw1=np.dot(x.T,d2)/x.shape[0]+self.Lambda*(self.W1)\n",
        "        return djdw1,djdw2,djdw3\n",
        "    \n",
        "    def wrapPara(self):\n",
        "        param=np.concatenate((self.W1.ravel(),self.W2.ravel(),self.W3.ravel()))\n",
        "        \n",
        "        return param\n",
        "    \n",
        "    def unwrapPara(self,param):\n",
        "        \n",
        "        W1_start=0\n",
        "        W1_end=self.ils*self.hls1\n",
        "        self.W1=np.reshape(param[W1_start:W1_end],\\\n",
        "                           (self.ils,self.hls1))\n",
        "        W2_end=W1_end+self.hls1*self.hls2\n",
        "        self.W2=np.reshape(param[W1_end:W2_end],\\\n",
        "                           (self.hls1,self.hls2))\n",
        "        W3_end=W2_end+self.hls2*self.ols\n",
        "        self.W3=np.reshape(param[W2_end:W3_end],\\\n",
        "                           (self.hls2,self.ols))\n",
        "        \n",
        "    def computeGradient(self,x,y):\n",
        "        djdw1,djdw2,djdw3=self.costPrime(x,y)\n",
        "        \n",
        "        return np.concatenate((djdw1.ravel(),djdw2.ravel(),djdw3.ravel()))\n",
        "        \n",
        "    \n",
        "        \n",
        "        "
      ],
      "execution_count": 3,
      "outputs": []
    },
    {
      "cell_type": "code",
      "metadata": {
        "id": "Td_88Fq1zJ59",
        "colab_type": "code",
        "colab": {}
      },
      "source": [
        "from math import sin,exp,tanh\n",
        "from random import randint\n",
        "def fun(x1,x2,x3):\n",
        "    eps=randint(-10,10)/10\n",
        "    return (sin(9*exp(5*x1) + 1.8*x3)-1)*exp(7*x2)+eps\n",
        "import csv\n",
        "csv_columns=[\"No\",\"X1\",\"X2\",\"X3\",\"Y\"]\n",
        "dict_data=[]\n",
        "\n",
        "n=1000\n",
        "from random import randint\n",
        "\n",
        "\n",
        "for i in range(n):\n",
        "    d={}\n",
        "    x1=randint(2,1000)/1000\n",
        "    x2=randint(2,1000)/1000\n",
        "    x3=randint(2,1000)/1000\n",
        "    y=fun(x1,x2,x3)\n",
        "    d[\"No\"]=i+1\n",
        "    d[\"X1\"]=x1\n",
        "    d[\"X2\"]=x2\n",
        "    d[\"X3\"]=x3\n",
        "    d[\"Y\"]=y\n",
        "    dict_data.append(d)\n",
        "csv_file=\"t-3.csv\"\n",
        "from scipy import optimize as opt\n",
        "try:\n",
        "    with open(csv_file,\"w\") as csvfile:\n",
        "        writer=csv.DictWriter(csvfile,fieldnames=csv_columns)\n",
        "        writer.writeheader()\n",
        "        for data in dict_data:\n",
        "            writer.writerow(data)\n",
        "except IOError:\n",
        "    print(\"Error\")\n",
        "    \n",
        "import numpy as np\n",
        "import pandas as pd\n",
        "import matplotlib.pyplot as plt\n",
        "\n",
        "ds=pd.read_csv(\"t-3.csv\")\n",
        "x=ds.iloc[:,[1,2,3]].values\n",
        "y=ds.iloc[:,[2]].values\n"
      ],
      "execution_count": 4,
      "outputs": []
    },
    {
      "cell_type": "code",
      "metadata": {
        "id": "X7hZ9n3CzKD-",
        "colab_type": "code",
        "colab": {}
      },
      "source": [
        "\n",
        "trainX_n,testX_n,trainY_n,testY_n=train_test_split(x,y,test_size=0.2,random_state=2)\n",
        "\n",
        "\n",
        "testX = testX_n/np.amax(trainX_n, axis=0)\n",
        "testY = testY_n/np.amax(trainY_n)\n",
        "trainX = trainX_n/np.amax(trainX_n, axis=0)\n",
        "trainY = trainY_n/np.amax(trainY_n, axis=0) \n",
        "\n",
        "#Normalize by max of training data:\n"
      ],
      "execution_count": 5,
      "outputs": []
    },
    {
      "cell_type": "code",
      "metadata": {
        "id": "AE3j2tzkzguh",
        "colab_type": "code",
        "colab": {}
      },
      "source": [
        "class trainer(object):\n",
        "    def __init__(self,N):\n",
        "        self.N=N\n",
        "    \n",
        "    def callbackF(self,param):\n",
        "        self.N.unwrapPara(param)\n",
        "        self.J.append(self.N.cost(self.x,self.y))\n",
        "        self.testJ.append(self.N.cost(self.testX,self.testY))\n",
        "    \n",
        "    def costWrapper(self,param,x,y):\n",
        "        self.N.unwrapPara(param)\n",
        "        cost=self.N.cost(x,y)\n",
        "        grad=self.N.computeGradient(x,y)\n",
        "        \n",
        "        return cost,grad\n",
        "    \n",
        "    def minimizer(self,f,param,tx,ty,d,*cb):\n",
        "         \n",
        "        _res = opt.minimize(f,param,jac=True,method='BFGS',args=(tx,ty),options=d,callback=self.callbackF)\n",
        "        return _res\n",
        "\n",
        "\n",
        "\n",
        "    def train(self, trainX, trainY, testX, testY):\n",
        "        \n",
        "        self.x = trainX\n",
        "        self.y = trainY\n",
        "        \n",
        "        self.testX = testX\n",
        "        self.testY = testY\n",
        "\n",
        "        #Make empty list to store training costs:\n",
        "        self.J = []\n",
        "        self.testJ = []\n",
        "        \n",
        "        params0 = self.N.wrapPara()\n",
        "\n",
        "        options = {'maxiter': 90000, 'disp' : True}\n",
        "        _res = self.minimizer(self.costWrapper, params0,trainX, trainY, d=options)\n",
        "\n",
        "        self.N.unwrapPara(_res.x)\n",
        "        self.optimizationResults = _res"
      ],
      "execution_count": 6,
      "outputs": []
    },
    {
      "cell_type": "code",
      "metadata": {
        "id": "b4ub67-Hzg2H",
        "colab_type": "code",
        "colab": {
          "base_uri": "https://localhost:8080/",
          "height": 110
        },
        "outputId": "ae07434c-c164-42e6-a439-5e94fceb5cd1"
      },
      "source": [
        "nn=Neural_Network()\n",
        "t=trainer(nn)\n",
        "t.train(trainX, trainY, testX, testY)"
      ],
      "execution_count": 7,
      "outputs": [
        {
          "output_type": "stream",
          "text": [
            "Optimization terminated successfully.\n",
            "         Current function value: 0.000055\n",
            "         Iterations: 230\n",
            "         Function evaluations: 244\n",
            "         Gradient evaluations: 244\n"
          ],
          "name": "stdout"
        }
      ]
    },
    {
      "cell_type": "code",
      "metadata": {
        "id": "BAyy7LFd1gxm",
        "colab_type": "code",
        "colab": {}
      },
      "source": [
        "ypred=nn.forward(testX)"
      ],
      "execution_count": 8,
      "outputs": []
    },
    {
      "cell_type": "code",
      "metadata": {
        "id": "glXKsWbZ1RzM",
        "colab_type": "code",
        "colab": {
          "base_uri": "https://localhost:8080/",
          "height": 36
        },
        "outputId": "75477d18-3d2e-40e1-c7bc-9ecc8e229d5e"
      },
      "source": [
        "from sklearn.metrics import mean_squared_error\n",
        "sqrt(mean_squared_error(testY_n, ypred*np.amax(trainY_n)))"
      ],
      "execution_count": 9,
      "outputs": [
        {
          "output_type": "execute_result",
          "data": {
            "text/plain": [
              "0.010494203150248543"
            ]
          },
          "metadata": {
            "tags": []
          },
          "execution_count": 9
        }
      ]
    }
  ]
}