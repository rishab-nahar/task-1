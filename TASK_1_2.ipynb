{
  "nbformat": 4,
  "nbformat_minor": 0,
  "metadata": {
    "kernelspec": {
      "display_name": "Python 3",
      "language": "python",
      "name": "python3"
    },
    "language_info": {
      "codemirror_mode": {
        "name": "ipython",
        "version": 3
      },
      "file_extension": ".py",
      "mimetype": "text/x-python",
      "name": "python",
      "nbconvert_exporter": "python",
      "pygments_lexer": "ipython3",
      "version": "3.7.6"
    },
    "colab": {
      "name": "TASK_1_2",
      "provenance": []
    }
  },
  "cells": [
    {
      "cell_type": "code",
      "metadata": {
        "id": "msY4WpsGCsvN",
        "colab_type": "code",
        "colab": {}
      },
      "source": [
        "import numpy as np\n",
        "import matplotlib.pyplot as plt\n",
        "import pandas as pd\n",
        "from sklearn.model_selection import train_test_split\n",
        "from sklearn.metrics import mean_squared_error\n",
        "from math import sqrt\n",
        "import time\n",
        "from sklearn.metrics import accuracy_score"
      ],
      "execution_count": 1,
      "outputs": []
    },
    {
      "cell_type": "code",
      "metadata": {
        "id": "hZ0oKjqkCsvf",
        "colab_type": "code",
        "colab": {}
      },
      "source": [
        "Lambda=0.0001"
      ],
      "execution_count": 2,
      "outputs": []
    },
    {
      "cell_type": "code",
      "metadata": {
        "id": "S_PDCzxoCsvv",
        "colab_type": "code",
        "colab": {}
      },
      "source": [
        "class Neural_Network(object):\n",
        "    def __init__(self,Lambda=0):\n",
        "        self.ils=1\n",
        "        self.hls1=7\n",
        "        self.hls2=7\n",
        "        self.ols=1\n",
        "        \n",
        "        self.W1=np.random.randn(self.ils,self.hls1)\n",
        "        self.W2=np.random.randn(self.hls1,self.hls2)\n",
        "        self.W3=np.random.randn(self.hls2,self.ols)\n",
        "        \n",
        "        self.Lambda=Lambda\n",
        "    \n",
        "    def forward(self,x):\n",
        "        self.z2=np.dot(x,self.W1)\n",
        "        self.a2=self.sigmoid(self.z2)\n",
        "        self.z3=np.dot(self.a2,self.W2)\n",
        "        self.a3=self.sigmoid(self.z3)\n",
        "        self.z4=np.dot(self.a3,self.W3)\n",
        "        a4=self.sigmoid(self.z4)\n",
        "        \n",
        "        return a4\n",
        "    \n",
        "    def sigmoid(self,z):\n",
        "        \n",
        "        return 1/(1+np.exp(-z))\n",
        "    \n",
        "    def sigmoidPrime(self,z):\n",
        "        \n",
        "        return np.exp(-z)/((1+np.exp(-z))**2)\n",
        "    \n",
        "    def cost(self,x,y):\n",
        "        self.ypred=self.forward(x)\n",
        "        J= (sum((0.5)*((self.ypred-y)**2)))/x.shape[0]+ (self.Lambda/2)*(np.sum((self.W1)**2)+np.sum((self.W2)**2)+np.sum((self.W3)**2))\n",
        "        \n",
        "        return J\n",
        "    \n",
        "    \n",
        "    def costPrime(self,x,y):\n",
        "        self.ypred=self.forward(x)\n",
        "        \n",
        "        d4=np.multiply((-y+self.ypred),self.sigmoidPrime(self.z4))\n",
        "        djdw3=np.dot(self.a3.T,d4)/x.shape[0]+self.Lambda*(self.W3)\n",
        "        d3=np.dot(d4,self.W3.T)*self.sigmoidPrime(self.z3)\n",
        "        djdw2=np.dot(self.a2.T,d3)/x.shape[0]+self.Lambda*(self.W2)\n",
        "        d2=np.dot(d3,self.W2.T)*self.sigmoidPrime(self.z2)\n",
        "        djdw1=np.dot(x.T,d2)/x.shape[0]+self.Lambda*(self.W1)\n",
        "        return djdw1,djdw2,djdw3\n",
        "    \n",
        "    def wrapPara(self):\n",
        "        param=np.concatenate((self.W1.ravel(),self.W2.ravel(),self.W3.ravel()))\n",
        "        \n",
        "        return param\n",
        "    \n",
        "    def unwrapPara(self,param):\n",
        "        \n",
        "        W1_start=0\n",
        "        W1_end=self.ils*self.hls1\n",
        "        self.W1=np.reshape(param[W1_start:W1_end],\\\n",
        "                           (self.ils,self.hls1))\n",
        "        W2_end=W1_end+self.hls1*self.hls2\n",
        "        self.W2=np.reshape(param[W1_end:W2_end],\\\n",
        "                           (self.hls1,self.hls2))\n",
        "        W3_end=W2_end+self.hls2*self.ols\n",
        "        self.W3=np.reshape(param[W2_end:W3_end],\\\n",
        "                           (self.hls2,self.ols))\n",
        "        \n",
        "    def computeGradient(self,x,y):\n",
        "        djdw1,djdw2,djdw3=self.costPrime(x,y)\n",
        "        \n",
        "        return np.concatenate((djdw1.ravel(),djdw2.ravel(),djdw3.ravel()))\n",
        "        \n",
        "    \n",
        "        \n",
        "        "
      ],
      "execution_count": 3,
      "outputs": []
    },
    {
      "cell_type": "code",
      "metadata": {
        "id": "14JgOFj4M1cc",
        "colab_type": "code",
        "colab": {}
      },
      "source": [
        "from math import sin,exp,tanh\n",
        "from random import randint\n",
        "def fun(x):\n",
        "    eps=randint(-10,10)/10\n",
        "    return 3**((exp(x/1000)*tanh(x/10)))\n",
        "import csv\n",
        "csv_columns=[\"No\",\"X\",\"Y\"]\n",
        "dict_data=[]\n",
        "\n",
        "n=1000\n",
        "from random import randint\n",
        "\n",
        "for i in range(n):\n",
        "    d={}\n",
        "    x=randint(2,1000)\n",
        "    # x = x/1000\n",
        "    y=fun(x)\n",
        "    d[\"No\"]=i+1\n",
        "    d[\"X\"]=x\n",
        "    d[\"Y\"]=y\n",
        "    dict_data.append(d)\n",
        "csv_file=\"t-1.csv\"\n",
        "from scipy import optimize as opt\n",
        "try:\n",
        "    with open(csv_file,\"w\") as csvfile:\n",
        "        writer=csv.DictWriter(csvfile,fieldnames=csv_columns)\n",
        "        writer.writeheader()\n",
        "        for data in dict_data:\n",
        "            writer.writerow(data)\n",
        "except IOError:\n",
        "    print(\"Error\")\n",
        "    \n",
        "\n",
        "ds=pd.read_csv(\"t-1.csv\")\n",
        "x=ds.iloc[:,[1]].values\n",
        "y=ds.iloc[:,[2]].values\n",
        "\n",
        "\n",
        "\n",
        "for i in range(len(y)):\n",
        "    epsilon = np.random.randint(-10,100)/9\n",
        "    y[i] = y[i]-epsilon\n",
        "\n"
      ],
      "execution_count": 4,
      "outputs": []
    },
    {
      "cell_type": "code",
      "metadata": {
        "id": "_kQFv-J7Csv5",
        "colab_type": "code",
        "colab": {}
      },
      "source": [
        "\n",
        "trainX_n,testX_n,trainY_n,testY_n=train_test_split(x,y,test_size=0.2,random_state=2)\n",
        "\n",
        "\n",
        "testX = testX_n/np.amax(trainX_n, axis=0)\n",
        "testY = testY_n/np.amax(trainY_n)\n",
        "trainX = trainX_n/np.amax(trainX_n, axis=0)\n",
        "trainY = trainY_n/np.amax(trainY_n, axis=0) \n",
        "\n",
        "#Normalize by max of training data:\n"
      ],
      "execution_count": 5,
      "outputs": []
    },
    {
      "cell_type": "code",
      "metadata": {
        "id": "bR3SwE8TCswA",
        "colab_type": "code",
        "colab": {}
      },
      "source": [
        "class trainer(object):\n",
        "    def __init__(self,N):\n",
        "        self.N=N\n",
        "    \n",
        "    def callbackF(self,param):\n",
        "        self.N.unwrapPara(param)\n",
        "        self.J.append(self.N.cost(self.x,self.y))\n",
        "        self.testJ.append(self.N.cost(self.testX,self.testY))\n",
        "    \n",
        "    def costWrapper(self,param,x,y):\n",
        "        self.N.unwrapPara(param)\n",
        "        cost=self.N.cost(x,y)\n",
        "        grad=self.N.computeGradient(x,y)\n",
        "        \n",
        "        return cost,grad\n",
        "    \n",
        "    def minimizer(self,f,param,tx,ty,d,*cb):\n",
        "         \n",
        "        _res = opt.minimize(f,param,jac=True,method='BFGS',args=(tx,ty),options=d,callback=self.callbackF)\n",
        "        return _res\n",
        "\n",
        "\n",
        "\n",
        "    def train(self, trainX, trainY, testX, testY):\n",
        "        \n",
        "        self.x = trainX\n",
        "        self.y = trainY\n",
        "        \n",
        "        self.testX = testX\n",
        "        self.testY = testY\n",
        "\n",
        "        #Make empty list to store training costs:\n",
        "        self.J = []\n",
        "        self.testJ = []\n",
        "        \n",
        "        params0 = self.N.wrapPara()\n",
        "\n",
        "        options = {'maxiter': 90000, 'disp' : True}\n",
        "        _res = self.minimizer(self.costWrapper, params0,trainX, trainY, d=options)\n",
        "\n",
        "        self.N.unwrapPara(_res.x)\n",
        "        self.optimizationResults = _res"
      ],
      "execution_count": 6,
      "outputs": []
    },
    {
      "cell_type": "code",
      "metadata": {
        "id": "qrZIVS5_CswK",
        "colab_type": "code",
        "colab": {}
      },
      "source": [
        "nn=Neural_Network()"
      ],
      "execution_count": 7,
      "outputs": []
    },
    {
      "cell_type": "code",
      "metadata": {
        "id": "Z6n4kOkvCswS",
        "colab_type": "code",
        "colab": {}
      },
      "source": [
        "t=trainer(nn)"
      ],
      "execution_count": 8,
      "outputs": []
    },
    {
      "cell_type": "code",
      "metadata": {
        "id": "IJA0wHdww_Cx",
        "colab_type": "code",
        "colab": {
          "base_uri": "https://localhost:8080/",
          "height": 110
        },
        "outputId": "59121712-2f91-4300-feeb-0dbd9243689c"
      },
      "source": [
        "t.train(trainX, trainY, testX, testY)"
      ],
      "execution_count": 9,
      "outputs": [
        {
          "output_type": "stream",
          "text": [
            "Optimization terminated successfully.\n",
            "         Current function value: 0.016409\n",
            "         Iterations: 65\n",
            "         Function evaluations: 76\n",
            "         Gradient evaluations: 76\n"
          ],
          "name": "stdout"
        }
      ]
    },
    {
      "cell_type": "code",
      "metadata": {
        "id": "RfMf3Pu5ptmQ",
        "colab_type": "code",
        "colab": {
          "base_uri": "https://localhost:8080/",
          "height": 36
        },
        "outputId": "699af180-8546-47e3-b3f5-01a0f6cd84dc"
      },
      "source": [
        "trainX.shape"
      ],
      "execution_count": 10,
      "outputs": [
        {
          "output_type": "execute_result",
          "data": {
            "text/plain": [
              "(800, 1)"
            ]
          },
          "metadata": {
            "tags": []
          },
          "execution_count": 10
        }
      ]
    },
    {
      "cell_type": "code",
      "metadata": {
        "id": "F83D9sOaCswp",
        "colab_type": "code",
        "colab": {}
      },
      "source": [
        "ypred=nn.forward(testX)"
      ],
      "execution_count": 11,
      "outputs": []
    },
    {
      "cell_type": "code",
      "metadata": {
        "id": "eBT7afc2Csww",
        "colab_type": "code",
        "colab": {
          "base_uri": "https://localhost:8080/",
          "height": 36
        },
        "outputId": "8aaa88fe-0d27-4ea4-a796-4f76426beedc"
      },
      "source": [
        "sqrt(mean_squared_error(testY_n, ypred*np.amax(trainY_n)))"
      ],
      "execution_count": 12,
      "outputs": [
        {
          "output_type": "execute_result",
          "data": {
            "text/plain": [
              "3.4399299866356006"
            ]
          },
          "metadata": {
            "tags": []
          },
          "execution_count": 12
        }
      ]
    },
    {
      "cell_type": "code",
      "metadata": {
        "id": "1dHWlBHdCsw2",
        "colab_type": "code",
        "colab": {
          "base_uri": "https://localhost:8080/",
          "height": 284
        },
        "outputId": "82ed6491-bf7d-4942-8cbd-d51ac5c47021"
      },
      "source": [
        "plt.scatter(trainX,trainY)\n",
        "plt.scatter(testX,ypred)"
      ],
      "execution_count": 13,
      "outputs": [
        {
          "output_type": "execute_result",
          "data": {
            "text/plain": [
              "<matplotlib.collections.PathCollection at 0x7faabfdc6898>"
            ]
          },
          "metadata": {
            "tags": []
          },
          "execution_count": 13
        },
        {
          "output_type": "display_data",
          "data": {
            "image/png": "[encoded data removed]",
            "text/plain": [
              "<Figure size 432x288 with 1 Axes>"
            ]
          },
          "metadata": {
            "tags": [],
            "needs_background": "light"
          }
        }
      ]
    }
  ]
}